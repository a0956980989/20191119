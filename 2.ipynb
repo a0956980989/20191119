{
 "cells": [
  {
   "cell_type": "markdown",
   "metadata": {},
   "source": [
    "猜數字"
   ]
  },
  {
   "cell_type": "code",
   "execution_count": 1,
   "metadata": {},
   "outputs": [
    {
     "name": "stdout",
     "output_type": "stream",
     "text": [
      "55\n",
      "I'm thinking of a number between 1 and 100\n",
      "Guess the number: 100\n",
      "Lower.\n",
      "Guess the number: 50\n",
      "Higher.\n",
      "Guess the number: 75\n",
      "Lower.\n",
      "Guess the number: 60\n",
      "Lower.\n",
      "Guess the number: 52\n",
      "Higher.\n",
      "Guess the number: 55\n",
      "Congratulations! You guessed the right answer: 55\n"
     ]
    }
   ],
   "source": [
    "from random import randint\n",
    "\n",
    "start = 1\n",
    "end = 100\n",
    "value = randint(start, end)\n",
    "\n",
    "print(value)\n",
    "print(\"I'm thinking of a number between\", start, \"and\", end)\n",
    "\n",
    "guess = None\n",
    "\n",
    "while guess != value:\n",
    "    text = input(\"Guess the number: \")\n",
    "    guess = int(text)\n",
    "\n",
    "    if guess < value:\n",
    "        print(\"Higher.\")\n",
    "    elif guess > value:\n",
    "        print(\"Lower.\")\n",
    "\n",
    "print(\"Congratulations! You guessed the right answer:\", value)"
   ]
  }
 ],
 "metadata": {
  "kernelspec": {
   "display_name": "Python 3",
   "language": "python",
   "name": "python3"
  },
  "language_info": {
   "codemirror_mode": {
    "name": "ipython",
    "version": 3
   },
   "file_extension": ".py",
   "mimetype": "text/x-python",
   "name": "python",
   "nbconvert_exporter": "python",
   "pygments_lexer": "ipython3",
   "version": "3.7.4"
  }
 },
 "nbformat": 4,
 "nbformat_minor": 2
}
