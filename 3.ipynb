{
 "cells": [
  {
   "cell_type": "markdown",
   "metadata": {},
   "source": [
    "猜拳"
   ]
  },
  {
   "cell_type": "code",
   "execution_count": null,
   "metadata": {},
   "outputs": [
    {
     "name": "stdout",
     "output_type": "stream",
     "text": [
      "請輸入你的名字:aaa\n",
      "歡迎aaa猜拳\n",
      "請出拳:石頭\n",
      "平手了\n",
      "請出拳:石頭\n",
      "平手了\n",
      "請出拳:石頭\n",
      "電腦贏了\n"
     ]
    }
   ],
   "source": [
    "import random\n",
    "\n",
    "name=input(\"請輸入你的名字:\")\n",
    "print(\"歡迎%s猜拳\"%name)\n",
    "\n",
    "com=0\n",
    "per=0\n",
    "draw=0\n",
    "while True:\n",
    "    s=int(random.randint(1,3))\n",
    "    computer=\"電腦出拳\"\n",
    "    if(s==1):\n",
    "        computer=\"剪刀\"\n",
    "    elif(s==2):\n",
    "            computer=\"石頭\"\n",
    "    else:\n",
    "        computer=\"布\"\n",
    "    person=input(\"請出拳:\")\n",
    "    list=[\"石頭\",\"剪刀\",\"布\"]\n",
    "    if(person in list) and (person != \"end\"):\n",
    "        if(computer == person):\n",
    "            print(\"平手了\")\n",
    "            draw+=1\n",
    "            continue\n",
    "        elif(computer==\"石頭\" and person==\"剪刀\") or (computer==\"剪刀\" and person==\"布\") or (computer==\"布\" and person==\"石頭\"):\n",
    "            print(\"電腦贏了\")\n",
    "            com+=1\n",
    "        else:\n",
    "            print(\"%s贏了\"%name)\n",
    "            per+=1\n",
    "    elif(person not in list) and (person != \"end\"):\n",
    "        print(\"你輸入有誤,請重新輸入!\")\n",
    "        continue\n",
    "    else:\n",
    "        sum = com + per + draw\n",
    "        print (\"這次遊戲，%s共猜拳%d次,贏拳%d次,輸拳%d次,平手%d次\" %(name,sum,per,com,draw))\n",
    "        print (\"歡迎%s下次再玩!\"%name)\n",
    "        break"
   ]
  }
 ],
 "metadata": {
  "kernelspec": {
   "display_name": "Python 3",
   "language": "python",
   "name": "python3"
  },
  "language_info": {
   "codemirror_mode": {
    "name": "ipython",
    "version": 3
   },
   "file_extension": ".py",
   "mimetype": "text/x-python",
   "name": "python",
   "nbconvert_exporter": "python",
   "pygments_lexer": "ipython3",
   "version": "3.7.4"
  }
 },
 "nbformat": 4,
 "nbformat_minor": 2
}
